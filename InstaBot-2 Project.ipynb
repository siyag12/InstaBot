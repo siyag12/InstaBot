{
 "cells": [
  {
   "cell_type": "code",
   "execution_count": 1,
   "id": "207223c3",
   "metadata": {},
   "outputs": [],
   "source": [
    "import requests\n",
    "from bs4 import BeautifulSoup as bs\n",
    "from selenium import webdriver as wd\n",
    "from webdriver_manager.chrome import ChromeDriverManager as cdm\n",
    "from selenium.webdriver.common.by import By\n",
    "import time\n",
    "from datetime import date,timedelta\n",
    "import pandas as pd\n",
    "import csv\n",
    "import matplotlib.pyplot as plt\n",
    "import numpy as np"
   ]
  },
  {
   "cell_type": "code",
   "execution_count": 2,
   "id": "1ae018b5",
   "metadata": {
    "scrolled": true
   },
   "outputs": [
    {
     "name": "stdout",
     "output_type": "stream",
     "text": [
      "\n"
     ]
    },
    {
     "name": "stderr",
     "output_type": "stream",
     "text": [
      "C:\\Users\\drish\\AppData\\Local\\Temp/ipykernel_20364/1609829132.py:1: DeprecationWarning: executable_path has been deprecated, please pass in a Service object\n",
      "  driver = wd.Chrome(cdm().install())\n"
     ]
    }
   ],
   "source": [
    "driver = wd.Chrome(cdm().install())"
   ]
  },
  {
   "cell_type": "markdown",
   "id": "d6c3b350",
   "metadata": {},
   "source": [
    "### Logging in Insta"
   ]
  },
  {
   "cell_type": "code",
   "execution_count": 3,
   "id": "00202aef",
   "metadata": {},
   "outputs": [],
   "source": [
    "driver.get('https://www.instagram.com/')"
   ]
  },
  {
   "cell_type": "code",
   "execution_count": 4,
   "id": "fa0b1baa",
   "metadata": {},
   "outputs": [],
   "source": [
    "username=driver.find_element(By.NAME,\"username\")\n",
    "password=driver.find_element(By.NAME,\"password\")"
   ]
  },
  {
   "cell_type": "code",
   "execution_count": 5,
   "id": "4ddfa1a6",
   "metadata": {},
   "outputs": [],
   "source": [
    "username.send_keys(\"siyag.12\")\n",
    "password.send_keys(\"avislrk712\")\n",
    "login=driver.find_elements(By.CLASS_NAME,\"sqdOP\")\n",
    "login[1].submit()"
   ]
  },
  {
   "cell_type": "markdown",
   "id": "e34e9907",
   "metadata": {},
   "source": [
    "### 2-factor authorization"
   ]
  },
  {
   "cell_type": "code",
   "execution_count": 6,
   "id": "ae67913c",
   "metadata": {},
   "outputs": [],
   "source": [
    "otp=driver.find_element(By.NAME,\"verificationCode\")\n",
    "otp.send_keys(\"778538\")\n",
    "confirm=driver.find_element(By.CLASS_NAME,\"sqdOP\")\n",
    "confirm.click()"
   ]
  },
  {
   "cell_type": "code",
   "execution_count": 7,
   "id": "ff26b832",
   "metadata": {},
   "outputs": [],
   "source": [
    "not_now_click=driver.find_element(By.CLASS_NAME,\"yWX7d\")\n",
    "not_now_click.click()"
   ]
  },
  {
   "cell_type": "code",
   "execution_count": 8,
   "id": "6021bc58",
   "metadata": {},
   "outputs": [],
   "source": [
    "not_now2_click=driver.find_element(By.CLASS_NAME,\"_a9_1\")\n",
    "not_now2_click.click()"
   ]
  },
  {
   "cell_type": "markdown",
   "id": "7c0a172a",
   "metadata": {},
   "source": [
    "### Search - food"
   ]
  },
  {
   "cell_type": "code",
   "execution_count": 9,
   "id": "3cfa3c38",
   "metadata": {},
   "outputs": [],
   "source": [
    "search=driver.find_element(By.CLASS_NAME,\"_aaw8\")\n",
    "search.click()\n",
    "searchbox=driver.find_element(By.CLASS_NAME,\"_aawh\")\n",
    "searchbox.send_keys(\"food\")"
   ]
  },
  {
   "cell_type": "code",
   "execution_count": 10,
   "id": "f6fcd481",
   "metadata": {},
   "outputs": [],
   "source": [
    "base_url=\"https://www.instagram.com\"\n",
    "no_of_followers={}\n",
    "search_results=driver.find_elements(By.XPATH,\"//div[contains(@class,'_abnx ')]//a[contains(@class,'oajrlxb2')]\")\n",
    "# print(search_results)\n",
    "for i in search_results[:10]:\n",
    "#     if \"span\" in i.get_attribute(\"innerHTML\") or \"#\" in i.get_attribute(\"innerHTML\"):\n",
    "#         continue\n",
    "    if(len(no_of_followers)==10):\n",
    "        break\n",
    "    data=bs(i.get_attribute(\"outerHTML\"),\"html.parser\")\n",
    "    url=data.a[\"href\"]\n",
    "    no_of_followers[url] = 0"
   ]
  },
  {
   "cell_type": "code",
   "execution_count": 11,
   "id": "827651c0",
   "metadata": {},
   "outputs": [
    {
     "data": {
      "text/plain": [
       "{'/delhi_streets_food/': 38600.0,\n",
       " '/food_be_best/': 17.0,\n",
       " '/foodscapes___/': 489.0,\n",
       " '/food.darzee/': 176000.0,\n",
       " '/delhifoodguide/': 99300.0,\n",
       " '/food_forces/': 28.0,\n",
       " '/food/': 180000.0,\n",
       " '/foodie_lover12266/': 148.0,\n",
       " '/foodstories.dwivediishivam/': 52.0,\n",
       " '/foodtalkindia/': 308000.0}"
      ]
     },
     "execution_count": 11,
     "metadata": {},
     "output_type": "execute_result"
    }
   ],
   "source": [
    "for i in no_of_followers.keys():\n",
    "    driver.get(base_url+i)\n",
    "    time.sleep(3)\n",
    "    followers=driver.find_element(By.XPATH,\"//ul[contains(@class,'_aa_7')]//a[contains(@class,'oajrlxb2')]//span[contains(@class,'_ac2a')]\")\n",
    "    data1=bs(followers.get_attribute(\"outerHTML\"),\"html.parser\")\n",
    "    x=data1.string\n",
    "    if(x[-1]=='K'):\n",
    "        x=float(x[:-1])*1000\n",
    "    no_of_followers[i] = float(x)\n",
    "no_of_followers"
   ]
  },
  {
   "cell_type": "code",
   "execution_count": 12,
   "id": "5d4e7185",
   "metadata": {
    "scrolled": true
   },
   "outputs": [
    {
     "name": "stdout",
     "output_type": "stream",
     "text": [
      "[('/food_be_best/', 17.0), ('/food_forces/', 28.0), ('/foodstories.dwivediishivam/', 52.0), ('/foodie_lover12266/', 148.0), ('/foodscapes___/', 489.0), ('/delhi_streets_food/', 38600.0), ('/delhifoodguide/', 99300.0), ('/food.darzee/', 176000.0), ('/food/', 180000.0), ('/foodtalkindia/', 308000.0)]\n",
      "\n",
      "Top 5 food accounts with most followers\n",
      "/foodtalkindia/\n",
      "/food/\n",
      "/food.darzee/\n",
      "/delhifoodguide/\n",
      "/delhi_streets_food/\n"
     ]
    }
   ],
   "source": [
    "new=sorted(no_of_followers.items(), key=lambda kv:(kv[1], kv[0]))\n",
    "print(new)\n",
    "print('\\nTop 5 food accounts with most followers')\n",
    "for i in range(5):\n",
    "    new.pop(0)\n",
    "    print(new[len(new)-i-1][0])"
   ]
  },
  {
   "cell_type": "code",
   "execution_count": 13,
   "id": "6011edbd",
   "metadata": {},
   "outputs": [
    {
     "name": "stdout",
     "output_type": "stream",
     "text": [
      "[('/delhi_streets_food/', 38600.0), ('/delhifoodguide/', 99300.0), ('/food.darzee/', 176000.0), ('/food/', 180000.0), ('/foodtalkindia/', 308000.0)]\n"
     ]
    }
   ],
   "source": [
    "print(new)"
   ]
  },
  {
   "cell_type": "code",
   "execution_count": 14,
   "id": "3007e4eb",
   "metadata": {},
   "outputs": [
    {
     "name": "stdout",
     "output_type": "stream",
     "text": [
      "[27, 26, 25]\n",
      "[7, 7, 7]\n"
     ]
    }
   ],
   "source": [
    "Dateslist = [date.today() - timedelta(days = day) for day in range(3)]\n",
    "last_3_dates = []\n",
    "last_3_months=[]\n",
    "for i in Dateslist:\n",
    "    last_3_dates.append(i.day)\n",
    "    last_3_months.append(i.month)\n",
    "print(last_3_dates)\n",
    "print(last_3_months)"
   ]
  },
  {
   "cell_type": "code",
   "execution_count": 15,
   "id": "5484a6e4",
   "metadata": {
    "scrolled": false
   },
   "outputs": [
    {
     "data": {
      "text/plain": [
       "{'/delhi_streets_food/': 0,\n",
       " '/delhifoodguide/': 0,\n",
       " '/food.darzee/': 3,\n",
       " '/food/': 3,\n",
       " '/foodtalkindia/': 3}"
      ]
     },
     "execution_count": 15,
     "metadata": {},
     "output_type": "execute_result"
    }
   ],
   "source": [
    "no_of_posts={}\n",
    "for i in new:\n",
    "    driver.get(base_url+i[0])\n",
    "    time.sleep(3)\n",
    "    j=0\n",
    "    while True:\n",
    "        posts=driver.find_elements(By.XPATH,\"//div[contains(@class,'_aa-i')]//div[contains(@class,'_aabd')]\")\n",
    "    #     print(i.get_attribute(\"outerHTML\"))\n",
    "        data=bs(posts[j].get_attribute(\"outerHTML\"),\"html.parser\")\n",
    "        url=base_url+ data.a[\"href\"]\n",
    "        driver.get(url)\n",
    "        time.sleep(3)\n",
    "        post_date=driver.find_element(By.XPATH,\"//div[contains(@class,'_aat8')]//time[contains(@class,'_aaqe')]\")\n",
    "        data1=bs(post_date.get_attribute(\"outerHTML\"),\"html.parser\")\n",
    "        tags = data1.find(\"time\")\n",
    "        d=tags[\"datetime\"].split(\"T\")[0]\n",
    "        m=int(d[5:7])\n",
    "        day=int(d[8:])\n",
    "        if i[0] not in no_of_posts.keys():\n",
    "            no_of_posts[i[0]]=0\n",
    "        if day not in last_3_dates or m not in last_3_months:\n",
    "            break\n",
    "        no_of_posts[i[0]]=no_of_posts.get(i[0],0)+1\n",
    "        time.sleep(2)\n",
    "        driver.back()\n",
    "        j+=1\n",
    "        time.sleep(3)\n",
    "    driver.back()\n",
    "no_of_posts"
   ]
  },
  {
   "cell_type": "code",
   "execution_count": 16,
   "id": "dd0eafc7",
   "metadata": {},
   "outputs": [
    {
     "data": {
      "image/png": "[encoded data removed]",
      "text/plain": [
       "<Figure size 576x360 with 1 Axes>"
      ]
     },
     "metadata": {
      "needs_background": "light"
     },
     "output_type": "display_data"
    }
   ],
   "source": [
    "accounts=list(no_of_posts.keys())\n",
    "number=list(no_of_posts.values())\n",
    "fig = plt.figure(figsize = (8, 5))\n",
    "plt.bar(accounts,number,width=0.4)\n",
    "plt.ylabel(\"Number of posts in last 3 days\")\n",
    "plt.xlabel(\"Username\")\n",
    "plt.show()"
   ]
  },
  {
   "cell_type": "markdown",
   "id": "eba42697",
   "metadata": {},
   "source": [
    "### Frequency of hashtags"
   ]
  },
  {
   "cell_type": "code",
   "execution_count": 19,
   "id": "35741469",
   "metadata": {
    "scrolled": true
   },
   "outputs": [
    {
     "name": "stdout",
     "output_type": "stream",
     "text": [
      "{'/delhi_streets_food/': {'#guava': 1, '#summer': 1, '#weekend': 1, '#icecream': 1, '#coldstone': 1, '#coldstonecreamery': 1, '#gulabjamun': 1, '#dessert': 1, '#bewafaikargaya': 3, '#bpraak': 4, '#lekh': 4, '#whitehillmusic': 4, '#bhutta': 1, '#challi': 1, '#uddgaya': 1, '#kachori': 1, '#breakfast': 1, '#loveit': 1, '#cholebhature': 1, '#bhature': 1, '#chole': 1, '#desifood': 1, '#foodiesofinstagram': 1, '#foodporn': 1, '#reelkarofeelkaro': 1, '#yummyinmytummy': 1, '#delhistreetfood': 1, '#reelindia': 1, '#veganfood': 1, '#indianfoodbloggers': 1, '#indianfoods': 1, '#reelsvideo': 1, '#indianblogger': 1, '#reelitfeelit': 1, '#localfood': 1}, '/delhifoodguide/': {'#part2': 1, '#part1': 1}, '/food.darzee/': {'#DrSidSays': 2, '#fish': 1, '#CutThecrap': 2, '#curd': 1, '#healthyfoodtips': 6, '#healthyfood': 4, '#foodmyths': 1, '#fishcurry': 1, '#healthyliving': 1, '#Fooddarzee': 8, '#chickenlover': 1, '#chickensalad': 1, '#chickenfry': 1, '#chickenrecipes': 2, '#recipereel': 1, '#trending': 5, '#recipevideo': 1, '#easyrecipes': 1, '#food': 2, '#foodie': 1, '#foodlover': 3, '#foodstagram': 1, '#foodpics': 1, '#foodblogger': 1, '#foodphotography': 1, '#foodreels': 2, '#foodbeast': 1, '#foodgasm': 1, '#foods': 1, '#reels': 2, '#reel': 2, '#reelsinstagram': 1, '#relatablereels': 1, '#officereels': 1, '#officememes': 1, '#reelinstagram': 1, '#spinachdaal': 1, '#spinach': 2, '#superfood': 1, '#palakdal': 1, '#indiancooking': 1, '#indianfood': 1, '#foodies': 1, '#getinmybelly': 1, '#healthylifestyle': 1, '#vegetarian': 1, '#vegetarianrecipes': 1, '#daal': 1, '#foodcontest': 1, '#foodrecipes': 1, '#foodtip': 2, '#ketomeals': 2, '#butterchicken': 1, '#pavbhaji': 1, '#biryani': 1, '#pizzzalover': 1, '#fooddarzee': 1, '#instagood': 2, '#WeightLossTips': 1, '#instagram': 1, '#viral': 1, '#memes': 1, '#instafashion': 1, '#viralreels': 1, '#memesdaily': 2, '#daily': 2, '#foodporn': 1, '#weightloss': 1, '#instalove': 1, '#trend': 1, '#lowcarb': 1, '#fitnessreels': 1, '#video': 1, '#fitnessfacts': 1, '#spaghetti': 1, '#pasta': 1, '#pastalover': 1, '#recipe': 1, '#TrendingReels': 1, '#topicalspot': 1, '#socialmediamarketing': 1, '#socialmediamanager': 1, '#instalike': 1, '#instamood': 1, '#socialmediastrategy': 1, '#alldayeveryday': 1, '#meme': 1, '#memepage': 1, '#memelife': 1, '#starving': 1, '#hungry': 1, '#hungryhungry': 1, '#starvingtime': 1, '#stayhealthy': 1, '#stayfit': 1}, '/food/': {'#foodnews': 5, '#chocotaco': 1, '#icecream': 2, '#klondike': 1, '#unilever': 1, '#tacos': 1, '#chipolte': 1, '#guacamole': 2, '#guac': 2, '#web3': 1, '#crypto': 1, '#cryptocurrency': 1, '#foodcollabs': 3, '#breakfast': 1, '#breakfastcereal': 1, '#kaws': 1, '#spicy': 2, '#shakeshack': 1, '#flybyjing': 1, '#avocado': 1, '#handmade': 1, '#westchestercounty': 1, '#newyork': 1, '#heinz': 1, '#ketchup': 1, '#frenchfries': 1, '#sweet': 1, '#maplesyrup': 1, '#popcorn': 1, '#movies': 1, '#summer': 1}, '/foodtalkindia/': {'#littlemiss': 1, '#cuisines': 1, '#gec': 1, '#streetfood': 1, '#foodtalkindia': 10, '#foodtalk': 10, '#fti': 10, '#food': 10, '#foodie': 10, '#foodies': 10, '#foodgram': 10, '#foodgasm': 10, '#foodiesofindia': 10, '#foodblogger': 10, '#foodfeed': 10, '#delicious': 10, '#yummy': 10, '#instagood': 10, '#instafood': 10, '#instagram': 10, '#FTIFinds': 3, '#nutbutter': 1, '#peanutbutter': 1, '#almondbutter': 1, '#spreads': 1, '#handcrafted': 2, '#fresh': 1, '#NewInTown': 1, '#newintown': 1, '#gulatirestaurant': 1, '#butterchicken': 1, '#biryani': 1, '#iconic': 1, '#famous': 1, '#mughlai': 1, '#hyderabadi': 1, '#northindian': 1, '#friedchicken': 1, '#chickenpopcorn': 1, '#koreanchicken': 1, '#buffalowings': 1, '#restaurants': 2, '#bakery': 1, '#pastries': 1, '#danish': 1, '#puffs': 1, '#artisanal': 1, '#brioche': 1, '#homegrown': 1, '#tea': 1, '#monsoon': 2, '#ayurvedic': 1, '#savorworksroasters': 1, '#coffee': 1, '#chocolate': 1, '#organic': 1, '#vegan': 1, '#discover': 1, '#cafe': 1, '#bombaycuisine': 1, '#reels': 1, '#reelitfeelit': 1, '#instareels': 1, '#foodreels': 1, '#hotdog': 1, '#icecream': 1, '#horoscope': 1, '#zodiacsigns': 1, '#goa': 1, '#instagramworthy': 1, '#cafes': 1, '#eateries': 1}}\n"
     ]
    }
   ],
   "source": [
    "hashtags={}\n",
    "for i in new:\n",
    "    driver.get(base_url+i[0])\n",
    "    time.sleep(3)\n",
    "    j=0\n",
    "    hashtags[i[0]]={}\n",
    "    while j<10:\n",
    "        posts=driver.find_elements(By.XPATH,\"//div[contains(@class,'_aa-i')]//div[contains(@class,'_aabd')]\")\n",
    "        if(j>len(posts)):\n",
    "            break\n",
    "        data=bs(posts[j].get_attribute(\"outerHTML\"),\"html.parser\")\n",
    "        url=base_url+ data.a[\"href\"]\n",
    "        driver.get(url)\n",
    "        time.sleep(3)\n",
    "        post_content=driver.find_element(By.XPATH,\"//div[contains(@class,'_a9zs')]//span[contains(@class,'_aacl')]\")\n",
    "        data1=bs(post_content.get_attribute(\"outerHTML\"),\"html.parser\")\n",
    "        x=data1.find_all('a')\n",
    "        for x1 in x:\n",
    "            if(x1.string[0]=='#'):\n",
    "                hashtags[i[0]][x1.string] = hashtags[i[0]].get(x1.string,0)+1\n",
    "        time.sleep(2)\n",
    "        driver.back()\n",
    "        j+=1\n",
    "        time.sleep(3)\n",
    "    driver.back()\n",
    "print(hashtags)"
   ]
  },
  {
   "cell_type": "code",
   "execution_count": 20,
   "id": "0489f1bb",
   "metadata": {
    "scrolled": true
   },
   "outputs": [
    {
     "name": "stdout",
     "output_type": "stream",
     "text": [
      "{'#guava': 1, '#summer': 2, '#weekend': 1, '#icecream': 4, '#coldstone': 1, '#coldstonecreamery': 1, '#gulabjamun': 1, '#dessert': 1, '#bewafaikargaya': 3, '#bpraak': 4, '#lekh': 4, '#whitehillmusic': 4, '#bhutta': 1, '#challi': 1, '#uddgaya': 1, '#kachori': 1, '#breakfast': 2, '#loveit': 1, '#cholebhature': 1, '#bhature': 1, '#chole': 1, '#desifood': 1, '#foodiesofinstagram': 1, '#foodporn': 2, '#reelkarofeelkaro': 1, '#yummyinmytummy': 1, '#delhistreetfood': 1, '#reelindia': 1, '#veganfood': 1, '#indianfoodbloggers': 1, '#indianfoods': 1, '#reelsvideo': 1, '#indianblogger': 1, '#reelitfeelit': 2, '#localfood': 1, '#part2': 1, '#part1': 1, '#DrSidSays': 2, '#fish': 1, '#CutThecrap': 2, '#curd': 1, '#healthyfoodtips': 6, '#healthyfood': 4, '#foodmyths': 1, '#fishcurry': 1, '#healthyliving': 1, '#Fooddarzee': 8, '#chickenlover': 1, '#chickensalad': 1, '#chickenfry': 1, '#chickenrecipes': 2, '#recipereel': 1, '#trending': 5, '#recipevideo': 1, '#easyrecipes': 1, '#food': 12, '#foodie': 11, '#foodlover': 3, '#foodstagram': 1, '#foodpics': 1, '#foodblogger': 11, '#foodphotography': 1, '#foodreels': 3, '#foodbeast': 1, '#foodgasm': 11, '#foods': 1, '#reels': 3, '#reel': 2, '#reelsinstagram': 1, '#relatablereels': 1, '#officereels': 1, '#officememes': 1, '#reelinstagram': 1, '#spinachdaal': 1, '#spinach': 2, '#superfood': 1, '#palakdal': 1, '#indiancooking': 1, '#indianfood': 1, '#foodies': 11, '#getinmybelly': 1, '#healthylifestyle': 1, '#vegetarian': 1, '#vegetarianrecipes': 1, '#daal': 1, '#foodcontest': 1, '#foodrecipes': 1, '#foodtip': 2, '#ketomeals': 2, '#butterchicken': 2, '#pavbhaji': 1, '#biryani': 2, '#pizzzalover': 1, '#fooddarzee': 1, '#instagood': 12, '#WeightLossTips': 1, '#instagram': 11, '#viral': 1, '#memes': 1, '#instafashion': 1, '#viralreels': 1, '#memesdaily': 2, '#daily': 2, '#weightloss': 1, '#instalove': 1, '#trend': 1, '#lowcarb': 1, '#fitnessreels': 1, '#video': 1, '#fitnessfacts': 1, '#spaghetti': 1, '#pasta': 1, '#pastalover': 1, '#recipe': 1, '#TrendingReels': 1, '#topicalspot': 1, '#socialmediamarketing': 1, '#socialmediamanager': 1, '#instalike': 1, '#instamood': 1, '#socialmediastrategy': 1, '#alldayeveryday': 1, '#meme': 1, '#memepage': 1, '#memelife': 1, '#starving': 1, '#hungry': 1, '#hungryhungry': 1, '#starvingtime': 1, '#stayhealthy': 1, '#stayfit': 1, '#foodnews': 5, '#chocotaco': 1, '#klondike': 1, '#unilever': 1, '#tacos': 1, '#chipolte': 1, '#guacamole': 2, '#guac': 2, '#web3': 1, '#crypto': 1, '#cryptocurrency': 1, '#foodcollabs': 3, '#breakfastcereal': 1, '#kaws': 1, '#spicy': 2, '#shakeshack': 1, '#flybyjing': 1, '#avocado': 1, '#handmade': 1, '#westchestercounty': 1, '#newyork': 1, '#heinz': 1, '#ketchup': 1, '#frenchfries': 1, '#sweet': 1, '#maplesyrup': 1, '#popcorn': 1, '#movies': 1, '#littlemiss': 1, '#cuisines': 1, '#gec': 1, '#streetfood': 1, '#foodtalkindia': 10, '#foodtalk': 10, '#fti': 10, '#foodgram': 10, '#foodiesofindia': 10, '#foodfeed': 10, '#delicious': 10, '#yummy': 10, '#instafood': 10, '#FTIFinds': 3, '#nutbutter': 1, '#peanutbutter': 1, '#almondbutter': 1, '#spreads': 1, '#handcrafted': 2, '#fresh': 1, '#NewInTown': 1, '#newintown': 1, '#gulatirestaurant': 1, '#iconic': 1, '#famous': 1, '#mughlai': 1, '#hyderabadi': 1, '#northindian': 1, '#friedchicken': 1, '#chickenpopcorn': 1, '#koreanchicken': 1, '#buffalowings': 1, '#restaurants': 2, '#bakery': 1, '#pastries': 1, '#danish': 1, '#puffs': 1, '#artisanal': 1, '#brioche': 1, '#homegrown': 1, '#tea': 1, '#monsoon': 2, '#ayurvedic': 1, '#savorworksroasters': 1, '#coffee': 1, '#chocolate': 1, '#organic': 1, '#vegan': 1, '#discover': 1, '#cafe': 1, '#bombaycuisine': 1, '#instareels': 1, '#hotdog': 1, '#horoscope': 1, '#zodiacsigns': 1, '#goa': 1, '#instagramworthy': 1, '#cafes': 1, '#eateries': 1}\n"
     ]
    }
   ],
   "source": [
    "# print(hashtags.values())\n",
    "freq={}\n",
    "for v in hashtags.values():\n",
    "#     print(v)\n",
    "    for w in v.keys():\n",
    "        freq[w]=freq.get(w,0)+v[w]\n",
    "print(freq)"
   ]
  },
  {
   "cell_type": "code",
   "execution_count": 21,
   "id": "50cf33ec",
   "metadata": {},
   "outputs": [],
   "source": [
    "with open('word_freq.csv', 'w') as f:\n",
    "    f.write(\"Hashtags , Frequency\\n\")\n",
    "    for key in freq.keys():\n",
    "        f.write(\"%s , %s\\n\"%(key,freq[key]))"
   ]
  },
  {
   "cell_type": "code",
   "execution_count": 22,
   "id": "94314643",
   "metadata": {
    "scrolled": true
   },
   "outputs": [
    {
     "data": {
      "text/plain": [
       "[('#instagood', 12),\n",
       " ('#food', 12),\n",
       " ('#instagram', 11),\n",
       " ('#foodies', 11),\n",
       " ('#foodie', 11)]"
      ]
     },
     "execution_count": 22,
     "metadata": {},
     "output_type": "execute_result"
    }
   ],
   "source": [
    "new1=sorted(freq.items(), key=lambda kv:(kv[1], kv[0]),reverse=True)\n",
    "top_hash = new1[:5]\n",
    "top_hash"
   ]
  },
  {
   "cell_type": "code",
   "execution_count": 28,
   "id": "7d1dc816",
   "metadata": {},
   "outputs": [
    {
     "data": {
      "image/png": "[encoded data removed]",
      "text/plain": [
       "<Figure size 432x288 with 1 Axes>"
      ]
     },
     "metadata": {},
     "output_type": "display_data"
    }
   ],
   "source": [
    "label = []\n",
    "vals = []\n",
    "for t in top_hash:\n",
    "    label.append(t[0])\n",
    "    vals.append(t[1])\n",
    "def absolute_value(val):\n",
    "    a  = np.round(val/100.*vals.sum(), 0)\n",
    "    return int(a)\n",
    "label=np.array(label)\n",
    "vals=np.array(vals)\n",
    "plt.pie(vals,labels=label,autopct=absolute_value)\n",
    "plt.show()"
   ]
  },
  {
   "cell_type": "markdown",
   "id": "7998ed8f",
   "metadata": {},
   "source": [
    "### Likes Ratio"
   ]
  },
  {
   "cell_type": "code",
   "execution_count": 37,
   "id": "52d6bd35",
   "metadata": {
    "scrolled": true
   },
   "outputs": [],
   "source": [
    "no_of_likes={}\n",
    "for i in new:\n",
    "    driver.get(base_url+i[0])\n",
    "    time.sleep(3)\n",
    "    j=0\n",
    "    no_of_likes[i[0]]=0\n",
    "    while j<10:\n",
    "        posts=driver.find_elements(By.XPATH,\"//div[contains(@class,'_aa-i')]//div[contains(@class,'_aabd')]\")\n",
    "        if(j>len(posts)):\n",
    "            break\n",
    "        data=bs(posts[j].get_attribute(\"outerHTML\"),\"html.parser\")\n",
    "        url=base_url+ data.a[\"href\"]\n",
    "        driver.get(url)\n",
    "        time.sleep(3)\n",
    "        likes=driver.find_elements(By.XPATH,\"//section[contains(@class,'_aam_')]//a[contains(@class,'oajrlxb2')]\")\n",
    "        if likes==[]:\n",
    "            driver.back()\n",
    "            j+=1\n",
    "            time.sleep(3)\n",
    "            continue\n",
    "        data1=bs(likes[-1].get_attribute(\"outerHTML\"),\"html.parser\")\n",
    "#         print(data1.span.string)\n",
    "        no_of_likes[i[0]]=no_of_likes.get(i[0],0)+int(data1.span.string.replace(',',''))\n",
    "        time.sleep(2)\n",
    "        driver.back()\n",
    "        j+=1\n",
    "        time.sleep(3)\n",
    "    driver.back()"
   ]
  },
  {
   "cell_type": "code",
   "execution_count": 40,
   "id": "67db861e",
   "metadata": {},
   "outputs": [
    {
     "data": {
      "text/plain": [
       "{'/delhi_streets_food/': 71364,\n",
       " '/delhifoodguide/': 5202,\n",
       " '/food.darzee/': 8064,\n",
       " '/foodtalkindia/': 333,\n",
       " '/food/': 1406}"
      ]
     },
     "execution_count": 40,
     "metadata": {},
     "output_type": "execute_result"
    }
   ],
   "source": [
    "no_of_likes"
   ]
  },
  {
   "cell_type": "code",
   "execution_count": 41,
   "id": "b53517d0",
   "metadata": {},
   "outputs": [
    {
     "name": "stdout",
     "output_type": "stream",
     "text": [
      "{'/delhi_streets_food/': 7136.4, '/delhifoodguide/': 520.2, '/food.darzee/': 806.4, '/foodtalkindia/': 33.3, '/food/': 140.6}\n"
     ]
    }
   ],
   "source": [
    "avg_likes={}\n",
    "for i in no_of_likes.keys():\n",
    "    avg_likes[i]=no_of_likes[i]/10\n",
    "print(avg_likes)"
   ]
  },
  {
   "cell_type": "code",
   "execution_count": 43,
   "id": "32e082ea",
   "metadata": {},
   "outputs": [
    {
     "name": "stdout",
     "output_type": "stream",
     "text": [
      "{'/delhi_streets_food/': 0.18488082901554403, '/delhifoodguide/': 0.005238670694864049, '/food.darzee/': 0.004581818181818182, '/food/': 0.0007811111111111111, '/foodtalkindia/': 0.00010811688311688311}\n"
     ]
    }
   ],
   "source": [
    "like_ratio={}\n",
    "for i in new:\n",
    "    like_ratio[i[0]] = avg_likes[i[0]] / i[1]\n",
    "print(like_ratio)"
   ]
  },
  {
   "cell_type": "code",
   "execution_count": 49,
   "id": "dfebcf05",
   "metadata": {},
   "outputs": [
    {
     "data": {
      "image/png": "[encoded data removed]",
      "text/plain": [
       "<Figure size 576x360 with 1 Axes>"
      ]
     },
     "metadata": {
      "needs_background": "light"
     },
     "output_type": "display_data"
    }
   ],
   "source": [
    "#### make bar graph\n",
    "accounts=list(like_ratio.keys())\n",
    "ratio=list(like_ratio.values())\n",
    "fig = plt.figure(figsize = (8, 5))\n",
    "plt.bar(accounts,ratio,width=0.4)\n",
    "plt.ylabel(\"Average follower to like ratio\")\n",
    "plt.xlabel(\"Username\")\n",
    "plt.show()"
   ]
  }
 ],
 "metadata": {
  "kernelspec": {
   "display_name": "Python 3 (ipykernel)",
   "language": "python",
   "name": "python3"
  },
  "language_info": {
   "codemirror_mode": {
    "name": "ipython",
    "version": 3
   },
   "file_extension": ".py",
   "mimetype": "text/x-python",
   "name": "python",
   "nbconvert_exporter": "python",
   "pygments_lexer": "ipython3",
   "version": "3.9.7"
  }
 },
 "nbformat": 4,
 "nbformat_minor": 5
}
